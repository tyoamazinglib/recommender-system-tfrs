{
  "cells": [
    {
      "cell_type": "markdown",
      "metadata": {
        "id": "view-in-github",
        "colab_type": "text"
      },
      "source": [
        "<a href=\"https://colab.research.google.com/github/tyoamazinglib/recommender-system-tfrs/blob/master/fedrecsys.ipynb\" target=\"_parent\"><img src=\"https://colab.research.google.com/assets/colab-badge.svg\" alt=\"Open In Colab\"/></a>"
      ]
    },
    {
      "cell_type": "markdown",
      "metadata": {
        "id": "ub_IS986jE5Z"
      },
      "source": [
        "# Preparing Federated Dependency"
      ]
    },
    {
      "cell_type": "code",
      "execution_count": 1,
      "metadata": {
        "colab": {
          "base_uri": "https://localhost:8080/"
        },
        "id": "ejWQaeiAi8_a",
        "outputId": "74090934-c5f5-461c-d94c-13a4c94ca789"
      },
      "outputs": [
        {
          "output_type": "stream",
          "name": "stdout",
          "text": [
            "\u001b[K     |████████████████████████████████| 819 kB 5.2 MB/s \n",
            "\u001b[K     |████████████████████████████████| 238 kB 51.2 MB/s \n",
            "\u001b[K     |████████████████████████████████| 251 kB 51.1 MB/s \n",
            "\u001b[K     |████████████████████████████████| 126 kB 13.8 MB/s \n",
            "\u001b[K     |████████████████████████████████| 4.0 MB 35.6 MB/s \n",
            "\u001b[K     |████████████████████████████████| 45 kB 2.7 MB/s \n",
            "\u001b[K     |████████████████████████████████| 65.2 MB 121 kB/s \n",
            "\u001b[K     |████████████████████████████████| 120 kB 50.8 MB/s \n",
            "\u001b[K     |████████████████████████████████| 498.0 MB 9.2 kB/s \n",
            "\u001b[K     |████████████████████████████████| 887 kB 31.6 MB/s \n",
            "\u001b[K     |████████████████████████████████| 53 kB 1.8 MB/s \n",
            "\u001b[K     |████████████████████████████████| 1.4 MB 52.8 MB/s \n",
            "\u001b[K     |████████████████████████████████| 5.8 MB 52.8 MB/s \n",
            "\u001b[K     |████████████████████████████████| 462 kB 66.0 MB/s \n",
            "\u001b[?25h  Building wheel for jax (setup.py) ... \u001b[?25l\u001b[?25hdone\n",
            "\u001b[31mERROR: pip's dependency resolver does not currently take into account all the packages that are installed. This behaviour is the source of the following dependency conflicts.\n",
            "spacy 3.4.4 requires tqdm<5.0.0,>=4.38.0, but you have tqdm 4.28.1 which is incompatible.\n",
            "pymc 4.1.4 requires cachetools>=4.2.1, but you have cachetools 3.1.1 which is incompatible.\n",
            "prophet 1.1.1 requires tqdm>=4.36.1, but you have tqdm 4.28.1 which is incompatible.\n",
            "panel 0.12.1 requires tqdm>=4.48.0, but you have tqdm 4.28.1 which is incompatible.\n",
            "grpcio-status 1.48.2 requires grpcio>=1.48.2, but you have grpcio 1.34.1 which is incompatible.\n",
            "google-cloud-bigquery 3.3.6 requires grpcio<2.0dev,>=1.47.0, but you have grpcio 1.34.1 which is incompatible.\u001b[0m\n",
            "\u001b[K     |████████████████████████████████| 588.3 MB 20 kB/s \n",
            "\u001b[K     |████████████████████████████████| 1.7 MB 47.1 MB/s \n",
            "\u001b[K     |████████████████████████████████| 6.0 MB 43.8 MB/s \n",
            "\u001b[K     |████████████████████████████████| 439 kB 48.5 MB/s \n",
            "\u001b[31mERROR: pip's dependency resolver does not currently take into account all the packages that are installed. This behaviour is the source of the following dependency conflicts.\n",
            "tensorflow-federated 0.20.0 requires tensorflow~=2.8.0, but you have tensorflow 2.11.0 which is incompatible.\n",
            "jaxlib 0.1.76 requires flatbuffers<3.0,>=1.12, but you have flatbuffers 22.12.6 which is incompatible.\u001b[0m\n",
            "\u001b[?25h"
          ]
        }
      ],
      "source": [
        "# Installing TensorFlow Federated\n",
        "!pip install --quiet tensorflow-federated==0.20.0\n",
        "!pip install --quiet --upgrade tensorflow\n",
        "!pip install --quiet --upgrade nest-asyncio\n",
        "\n",
        "import nest_asyncio\n",
        "nest_asyncio.apply()"
      ]
    },
    {
      "cell_type": "code",
      "execution_count": 2,
      "metadata": {
        "id": "Wukz-jtIjLcq"
      },
      "outputs": [],
      "source": [
        "# Import other stuff\n",
        "import collections\n",
        "import functools\n",
        "import io\n",
        "import os\n",
        "import requests\n",
        "import zipfile\n",
        "from typing import List, Optional, Tuple\n",
        "\n",
        "import matplotlib.pyplot as plt\n",
        "import numpy as np\n",
        "import pandas as pd\n",
        "import tensorflow as tf\n",
        "import tensorflow_federated as tff\n",
        "\n",
        "np.random.seed(42)"
      ]
    },
    {
      "cell_type": "markdown",
      "metadata": {
        "id": "XpGTPoOpC1b_"
      },
      "source": [
        "# Dataset preparation"
      ]
    },
    {
      "cell_type": "code",
      "source": [
        "# Datasets download and preparation\n",
        "PATH = \"https://files.grouplens.org/datasets/movielens/ml-1m.zip\"\n",
        "DATA_DIR = \"/tmp\"\n",
        "\n",
        "# Fetch dataset from grouplens\n",
        "r = requests.get(PATH)\n",
        "z = zipfile.ZipFile(io.BytesIO(r.content))\n",
        "z.extractall(path=DATA_DIR)\n",
        "\n",
        "# Loads up the dataset using pandas\n",
        "ratings_df = pd.read_csv(os.path.join(DATA_DIR, \"ml-1m\", \"ratings.dat\"), \n",
        "                         sep='::', \n",
        "                         names=[\"UserID\", \"MovieID\", \"Rating\", \"Timestamp\"],\n",
        "                         engine=\"python\",\n",
        "                         encoding='latin-1')\n",
        "\n",
        "movies_df = pd.read_csv(os.path.join(DATA_DIR, \"ml-1m\", \"movies.dat\"), \n",
        "                         sep='::', \n",
        "                         names=[\"MovieID\", \"Title\", \"Genres\"],\n",
        "                         engine=\"python\",\n",
        "                         encoding='latin-1')\n",
        "\n",
        "# Mapping dictionary in a new index\n",
        "movie_mapping = {old_movie: new_movie for new_movie, old_movie in enumerate(ratings_df.MovieID.astype(\"category\").cat.categories)}\n",
        "user_mapping = {old_user: new_user for new_user, old_user in enumerate(ratings_df.UserID.astype(\"category\").cat.categories)}\n",
        "\n",
        "# Map each DataFrame consistently using the now-fixed mapping.\n",
        "ratings_df.MovieID = ratings_df.MovieID.map(movie_mapping)\n",
        "ratings_df.UserID = ratings_df.UserID.map(user_mapping)\n",
        "movies_df.MovieID = movies_df.MovieID.map(movie_mapping)\n",
        "\n",
        "# Remove nulls result from movies_df\n",
        "movies_df = movies_df[pd.notnull(movies_df.MovieID)]"
      ],
      "metadata": {
        "id": "VPHzcTCPGYwb"
      },
      "execution_count": 4,
      "outputs": []
    },
    {
      "cell_type": "code",
      "source": [
        "# Sanity check of number of users and movies\n",
        "print('Num users:', len(set(ratings_df.UserID)))\n",
        "print('Num movies:', len(set(ratings_df.MovieID)))"
      ],
      "metadata": {
        "colab": {
          "base_uri": "https://localhost:8080/"
        },
        "id": "ehoE8FNTIg1B",
        "outputId": "14aa3ea0-400e-4e9a-f10a-bf9343051e4f"
      },
      "execution_count": 6,
      "outputs": [
        {
          "output_type": "stream",
          "name": "stdout",
          "text": [
            "Num users: 6040\n",
            "Num movies: 3706\n"
          ]
        }
      ]
    },
    {
      "cell_type": "markdown",
      "source": [
        "# Preprocessing Datasets"
      ],
      "metadata": {
        "id": "upIfIQoHI4_X"
      }
    },
    {
      "cell_type": "code",
      "source": [
        "# Helper function to create dataset based on user list\n",
        "def create_tf_datasets(ratings_df: pd.DataFrame,\n",
        "                       batch_size: int = 1,\n",
        "                       max_examples_per_user: Optional[int] = None,\n",
        "                       max_clients: Optional[int] = None) -> List[tf.data.Dataset]:\n",
        "  num_users = len(set(ratings_df.UserID))\n",
        "  # Optionally limit to `max_clients` to speed up data loading.\n",
        "  if max_clients is not None:\n",
        "    num_users = min(num_users, max_clients)\n",
        "\n",
        "  def rating_batch_map_fn(rating_batch):\n",
        "    # Each example looks like: {x: movie_id, y: rating}.\n",
        "    # We won't need the UserID since each client will only look at their own\n",
        "    # data.\n",
        "    return collections.OrderedDict([\n",
        "        (\"x\", tf.cast(rating_batch[:, 1:2], tf.int64)),\n",
        "        (\"y\", tf.cast(rating_batch[:, 2:3], tf.float32))\n",
        "    ])\n",
        "\n",
        "  tf_datasets = []\n",
        "  for user in range(num_users):\n",
        "    # Get subset of ratings_df belonging to a particular user.\n",
        "    user_ratings_df = ratings_df[ratings_df.UserID == user]\n",
        "\n",
        "    tf_dataset = tf.data.Dataset.from_tensor_slices(user_ratings_df)\n",
        "\n",
        "    # Define preprocessing operations.\n",
        "    tf_dataset = tf_dataset.take(max_examples_per_user).shuffle(\n",
        "        buffer_size=max_examples_per_user, seed=42).batch(batch_size).map(\n",
        "        rating_batch_map_fn,\n",
        "        num_parallel_calls=tf.data.experimental.AUTOTUNE)\n",
        "    tf_datasets.append(tf_dataset)\n",
        "\n",
        "  return tf_datasets\n",
        "\n",
        "def split_tf_datasets(\n",
        "    tf_datasets: List[tf.data.Dataset],\n",
        "    train_fraction: float = 0.8,\n",
        "    val_fraction: float = 0.1,\n",
        ") -> Tuple[List[tf.data.Dataset], List[tf.data.Dataset], List[tf.data.Dataset]]:\n",
        "  np.random.seed(42)\n",
        "  np.random.shuffle(tf_datasets)\n",
        "\n",
        "  train_idx = int(len(tf_datasets) * train_fraction)\n",
        "  val_idx = int(len(tf_datasets) * (train_fraction + val_fraction))\n",
        "\n",
        "  # Note that the val and test data contains completely different users, not\n",
        "  # just unseen ratings from train users.\n",
        "  return (tf_datasets[:train_idx], tf_datasets[train_idx:val_idx],\n",
        "          tf_datasets[val_idx:])"
      ],
      "metadata": {
        "id": "sm5JOFBVFpHG"
      },
      "execution_count": 9,
      "outputs": []
    },
    {
      "cell_type": "code",
      "source": [
        "# We limit the number of clients to speed up dataset creation. Feel free to pass\n",
        "# max_clients=None to load all clients' data.\n",
        "tf_datasets = create_tf_datasets(\n",
        "    ratings_df=ratings_df,\n",
        "    batch_size=5,\n",
        "    max_examples_per_user=300,\n",
        "    max_clients=2000)\n",
        "\n",
        "# Split the ratings into training/val/test by client.\n",
        "tf_train_datasets, tf_val_datasets, tf_test_datasets = split_tf_datasets(\n",
        "    tf_datasets,\n",
        "    train_fraction=0.8,\n",
        "    val_fraction=0.1)"
      ],
      "metadata": {
        "id": "XwdmRxZSF9xp"
      },
      "execution_count": 10,
      "outputs": []
    },
    {
      "cell_type": "markdown",
      "source": [
        "# Defining Federated Model"
      ],
      "metadata": {
        "id": "sFoVqG3JJizx"
      }
    },
    {
      "cell_type": "code",
      "execution_count": 11,
      "metadata": {
        "id": "xHKW37p-H_mp"
      },
      "outputs": [],
      "source": [
        "# Define a single Keras layer representing an embedding for a single user\n",
        "class UserEmbedding(tf.keras.layers.Layer):\n",
        "  def __init__(self, num_latent_factors, **kwargs):\n",
        "    super().__init__(**kwargs)\n",
        "    self.num_latent_factors = num_latent_factors\n",
        "\n",
        "  def build(self, input_shape):\n",
        "    self.embedding = self.add_weight(\n",
        "        shape=(1, self.num_latent_factors),\n",
        "        initializer='uniform',\n",
        "        dtype=tf.float32,\n",
        "        name='UserEmbeddingKernel')\n",
        "    super().build(input_shape)\n",
        "\n",
        "  def call(self, inputs):\n",
        "    return self.embedding\n",
        "\n",
        "  def compute_output_shape(self):\n",
        "    return (1, self.num_latent_factors)"
      ]
    },
    {
      "cell_type": "code",
      "source": [
        "def get_matrix_factorization_model(\n",
        "    num_items: int,\n",
        "    num_latent_factors: int) -> tff.learning.reconstruction.Model:\n",
        "  \"\"\"Defines a Keras matrix factorization model.\"\"\"\n",
        "  # Layers with variables will be partitioned into global and local layers.\n",
        "  # We'll pass this to `tff.learning.reconstruction.from_keras_model`.\n",
        "  global_layers = []\n",
        "  local_layers = []\n",
        "\n",
        "  # Extract the item embedding.\n",
        "  # This will be the global layers and the layers stored on the centralized setting\n",
        "  item_input = tf.keras.layers.Input(shape=[1], name='Item')\n",
        "  item_embedding_layer = tf.keras.layers.Embedding(\n",
        "      num_items,\n",
        "      num_latent_factors,\n",
        "      name='ItemEmbedding')\n",
        "  global_layers.append(item_embedding_layer)\n",
        "  flat_item_vec = tf.keras.layers.Flatten(name='FlattenItems')(\n",
        "      item_embedding_layer(item_input))\n",
        "\n",
        "  # Extract the user embedding.\n",
        "  # This will be the local layers and the layers stored on each clients setting\n",
        "  user_embedding_layer = UserEmbedding(\n",
        "      num_latent_factors,\n",
        "      name='UserEmbedding')\n",
        "  local_layers.append(user_embedding_layer)\n",
        "\n",
        "  # The item_input never gets used by the user embedding layer,\n",
        "  # but this allows the model to directly use the user embedding.\n",
        "  flat_user_vec = user_embedding_layer(item_input)\n",
        "\n",
        "  # Compute the dot product between the user embedding, and the item one.\n",
        "  pred = tf.keras.layers.Dot(\n",
        "      1, normalize=False, name='Dot')([flat_user_vec, flat_item_vec])\n",
        "\n",
        "  input_spec = collections.OrderedDict(\n",
        "      x=tf.TensorSpec(shape=[None, 1], dtype=tf.int64),\n",
        "      y=tf.TensorSpec(shape=[None, 1], dtype=tf.float32))\n",
        "\n",
        "  model = tf.keras.Model(inputs=item_input, outputs=pred)\n",
        "\n",
        "  return tff.learning.reconstruction.from_keras_model(\n",
        "      keras_model=model,\n",
        "      global_layers=global_layers,\n",
        "      local_layers=local_layers,\n",
        "      input_spec=input_spec)\n",
        "\n",
        "# This will be used to produce our training process.\n",
        "# User and item embeddings will be 50-dimensional.\n",
        "embedding_dimension = 50\n",
        "\n",
        "model_fn = functools.partial(\n",
        "    get_matrix_factorization_model,\n",
        "    num_items=len(set(ratings_df.MovieID)),\n",
        "    num_latent_factors=embedding_dimension)"
      ],
      "metadata": {
        "id": "LcH-rEHRJwMJ"
      },
      "execution_count": 13,
      "outputs": []
    },
    {
      "cell_type": "code",
      "source": [
        "# Defining loss and metrics\n",
        "class RatingAccuracy(tf.keras.metrics.Mean):\n",
        "  \"\"\"Keras metric computing accuracy of reconstructed ratings.\"\"\"\n",
        "\n",
        "  def __init__(self,\n",
        "               name: str = 'rating_accuracy',\n",
        "               **kwargs):\n",
        "    super().__init__(name=name, **kwargs)\n",
        "\n",
        "  def update_state(self,\n",
        "                   y_true: tf.Tensor,\n",
        "                   y_pred: tf.Tensor,\n",
        "                   sample_weight: Optional[tf.Tensor] = None):\n",
        "    absolute_diffs = tf.abs(y_true - y_pred)\n",
        "    # A [batch_size, 1] tf.bool tensor indicating correctness within the\n",
        "    # threshold for each example in a batch. A 0.5 threshold corresponds\n",
        "    # to correctness when predictions are rounded to the nearest whole\n",
        "    # number.\n",
        "    example_accuracies = tf.less_equal(absolute_diffs, 0.5)\n",
        "    super().update_state(example_accuracies, sample_weight=sample_weight)\n",
        "\n",
        "\n",
        "loss_fn = lambda: tf.keras.losses.MeanSquaredError()\n",
        "metrics_fn = lambda: [RatingAccuracy()]"
      ],
      "metadata": {
        "id": "FS2yOkXmKfv1"
      },
      "execution_count": 15,
      "outputs": []
    },
    {
      "cell_type": "markdown",
      "source": [
        "# Training Federated Reconstruction"
      ],
      "metadata": {
        "id": "U7GF8WOALvMm"
      }
    },
    {
      "cell_type": "code",
      "source": [
        "# Federated Training Process\n",
        "training_process = tff.learning.reconstruction.build_training_process(\n",
        "    model_fn=model_fn,\n",
        "    loss_fn=loss_fn,\n",
        "    metrics_fn=metrics_fn,\n",
        "    server_optimizer_fn=lambda: tf.keras.optimizers.Adagrad(learning_rate=1),\n",
        "    client_optimizer_fn=lambda: tf.keras.optimizers.Adagrad(learning_rate=0.5),\n",
        "    reconstruction_optimizer_fn=lambda: tf.keras.optimizers.Adagrad(learning_rate=0.1))\n",
        "\n",
        "# Federated Evaluation Process\n",
        "evaluation_computation = tff.learning.reconstruction.build_federated_evaluation(\n",
        "    model_fn,\n",
        "    loss_fn=loss_fn,\n",
        "    metrics_fn=metrics_fn,\n",
        "    reconstruction_optimizer_fn=lambda: tf.keras.optimizers.Adagrad(learning_rate=0.1))"
      ],
      "metadata": {
        "colab": {
          "base_uri": "https://localhost:8080/"
        },
        "id": "jUl-OhGLLuvG",
        "outputId": "fb19d087-cde5-477d-afaf-6628ca7baf91"
      },
      "execution_count": 16,
      "outputs": [
        {
          "output_type": "stream",
          "name": "stderr",
          "text": [
            "WARNING:tensorflow:From /usr/local/lib/python3.8/dist-packages/tensorflow/python/autograph/pyct/static_analysis/liveness.py:83: Analyzer.lamba_check (from tensorflow.python.autograph.pyct.static_analysis.liveness) is deprecated and will be removed after 2023-09-23.\n",
            "Instructions for updating:\n",
            "Lambda fuctions will be no more assumed to be used in the statement where they are used, or at least in the same block. https://github.com/tensorflow/tensorflow/issues/56089\n"
          ]
        }
      ]
    },
    {
      "cell_type": "code",
      "source": [
        "# Initialize Model State\n",
        "# This model has yet to be trained so its states are randomly initialized\n",
        "state = training_process.initialize()\n",
        "print(state.model)\n",
        "print('Item variables shape:', state.model.trainable[0].shape)"
      ],
      "metadata": {
        "colab": {
          "base_uri": "https://localhost:8080/"
        },
        "id": "kqTId60vMwMr",
        "outputId": "9ea9dc18-04eb-446c-acb8-e19e92890be5"
      },
      "execution_count": 17,
      "outputs": [
        {
          "output_type": "stream",
          "name": "stdout",
          "text": [
            "ModelWeights(trainable=[array([[ 0.00736888,  0.02336642, -0.04540435, ..., -0.02964649,\n",
            "         0.01241489,  0.02297821],\n",
            "       [-0.00729835,  0.0409385 ,  0.03414372, ...,  0.04860852,\n",
            "         0.01309707,  0.01051408],\n",
            "       [ 0.01503105,  0.04270992, -0.02810532, ..., -0.04550613,\n",
            "         0.02217412, -0.03384804],\n",
            "       ...,\n",
            "       [ 0.04828994,  0.00433628,  0.03431237, ...,  0.03667572,\n",
            "        -0.00148537, -0.03072908],\n",
            "       [ 0.01552198,  0.03013653,  0.04520733, ...,  0.02823322,\n",
            "         0.04837615,  0.00344805],\n",
            "       [-0.01403578, -0.03861239,  0.00376076, ..., -0.00570349,\n",
            "        -0.00883814, -0.01722107]], dtype=float32)], non_trainable=[])\n",
            "Item variables shape: (3706, 50)\n"
          ]
        }
      ]
    },
    {
      "cell_type": "code",
      "source": [
        "# Testing evaluation pipelines on evaluating initial state model\n",
        "eval_metrics = evaluation_computation(state.model, tf_val_datasets)\n",
        "print('Initial Eval:', eval_metrics['eval'])"
      ],
      "metadata": {
        "colab": {
          "base_uri": "https://localhost:8080/"
        },
        "id": "vh5hCnhWNAFP",
        "outputId": "c5e87a95-2f00-42cd-b5a2-bf50d28f4b62"
      },
      "execution_count": 18,
      "outputs": [
        {
          "output_type": "stream",
          "name": "stdout",
          "text": [
            "Initial Eval: OrderedDict([('loss', 14.308943), ('rating_accuracy', 0.0)])\n"
          ]
        }
      ]
    },
    {
      "cell_type": "code",
      "source": [
        "# Training loops\n",
        "NUM_EPOCHS = 20\n",
        "NUM_CLIENT_PER_EPOCH = 50\n",
        "\n",
        "train_losses = []\n",
        "train_accs = []\n",
        "\n",
        "# This may take a couple minutes to run.\n",
        "print(f\"Training with {NUM_CLIENT_PER_EPOCH} clients per sample of Epoch. Total number of epochs: {NUM_EPOCHS}\")\n",
        "for i in range(NUM_EPOCHS):\n",
        "  federated_train_data = np.random.choice(tf_train_datasets, size=NUM_CLIENT_PER_EPOCH, replace=False).tolist()\n",
        "  state, metrics = training_process.next(state, federated_train_data)\n",
        "  print(f'Epoch {i+1}/{NUM_EPOCHS}:', metrics['train'])\n",
        "  train_losses.append(metrics['train']['loss'])\n",
        "  train_accs.append(metrics['train']['rating_accuracy'])\n",
        "\n",
        "\n",
        "eval_metrics = evaluation_computation(state.model, tf_val_datasets)\n",
        "print('Final Eval:', eval_metrics['eval'])"
      ],
      "metadata": {
        "colab": {
          "base_uri": "https://localhost:8080/"
        },
        "id": "MX6ViGthNqbV",
        "outputId": "0dd90382-d2b7-4206-872f-9a97b2728a7f"
      },
      "execution_count": 20,
      "outputs": [
        {
          "output_type": "stream",
          "name": "stdout",
          "text": [
            "Training with 50 clients per sample of Epoch. Total number of epochs: 20\n",
            "Epoch 1/20: OrderedDict([('rating_accuracy', 0.12321982), ('loss', 5.95558)])\n",
            "Epoch 2/20: OrderedDict([('rating_accuracy', 0.18577375), ('loss', 4.469394)])\n",
            "Epoch 3/20: OrderedDict([('rating_accuracy', 0.22930153), ('loss', 3.1820974)])\n",
            "Epoch 4/20: OrderedDict([('rating_accuracy', 0.234748), ('loss', 3.1714163)])\n",
            "Epoch 5/20: OrderedDict([('rating_accuracy', 0.28282207), ('loss', 2.173332)])\n",
            "Epoch 6/20: OrderedDict([('rating_accuracy', 0.26263002), ('loss', 2.4687662)])\n",
            "Epoch 7/20: OrderedDict([('rating_accuracy', 0.29835212), ('loss', 2.1852582)])\n",
            "Epoch 8/20: OrderedDict([('rating_accuracy', 0.31662804), ('loss', 1.9667714)])\n",
            "Epoch 9/20: OrderedDict([('rating_accuracy', 0.29695252), ('loss', 2.0842395)])\n",
            "Epoch 10/20: OrderedDict([('rating_accuracy', 0.30732948), ('loss', 1.8183647)])\n",
            "Epoch 11/20: OrderedDict([('rating_accuracy', 0.29972085), ('loss', 1.8831412)])\n",
            "Epoch 12/20: OrderedDict([('rating_accuracy', 0.3459596), ('loss', 1.475496)])\n",
            "Epoch 13/20: OrderedDict([('rating_accuracy', 0.32190067), ('loss', 1.7152169)])\n",
            "Epoch 14/20: OrderedDict([('rating_accuracy', 0.34974015), ('loss', 1.4457653)])\n",
            "Epoch 15/20: OrderedDict([('rating_accuracy', 0.32614213), ('loss', 1.5572767)])\n",
            "Epoch 16/20: OrderedDict([('rating_accuracy', 0.36491227), ('loss', 1.3318349)])\n",
            "Epoch 17/20: OrderedDict([('rating_accuracy', 0.34787992), ('loss', 1.4017751)])\n",
            "Epoch 18/20: OrderedDict([('rating_accuracy', 0.35115698), ('loss', 1.3853012)])\n",
            "Epoch 19/20: OrderedDict([('rating_accuracy', 0.36472243), ('loss', 1.362679)])\n",
            "Epoch 20/20: OrderedDict([('rating_accuracy', 0.330664), ('loss', 1.3711551)])\n",
            "Final Eval: OrderedDict([('loss', 1.4421508), ('rating_accuracy', 0.34682035)])\n"
          ]
        }
      ]
    },
    {
      "cell_type": "markdown",
      "source": [
        "# Model Evaluation"
      ],
      "metadata": {
        "id": "fxY5BSIBQWp-"
      }
    },
    {
      "cell_type": "code",
      "source": [
        "# Evaluating model\n",
        "fig, ax = plt.subplots(1, 2)\n",
        "fig.suptitle('Federated model evaluation')\n",
        "fig.set_size_inches(15, 6)\n",
        "\n",
        "ax[0].plot(range(NUM_EPOCHS), train_losses)\n",
        "ax[0].set_ylabel('Train Loss')\n",
        "ax[0].set_xlabel('Epochs')\n",
        "ax[0].set_title('Train Loss')\n",
        "\n",
        "ax[1].plot(range(NUM_EPOCHS), train_accs)\n",
        "ax[1].set_ylabel('Train Accuracy')\n",
        "ax[1].set_xlabel('Epochs')\n",
        "ax[1].set_title('Train Accuracy')\n",
        "\n",
        "plt.show()"
      ],
      "metadata": {
        "colab": {
          "base_uri": "https://localhost:8080/",
          "height": 431
        },
        "id": "h-pIPoLsQSPk",
        "outputId": "8f1bb8c9-a2ad-4577-84f5-125a48d3eb5d"
      },
      "execution_count": 24,
      "outputs": [
        {
          "output_type": "display_data",
          "data": {
            "text/plain": [
              "<Figure size 1080x432 with 2 Axes>"
            ],
            "image/png": "[encoded data removed]"
          },
          "metadata": {
            "needs_background": "light"
          }
        }
      ]
    }
  ],
  "metadata": {
    "colab": {
      "provenance": [],
      "authorship_tag": "ABX9TyPPL+4LgpxK9be03xnMbgcK",
      "include_colab_link": true
    },
    "kernelspec": {
      "display_name": "Python 3",
      "name": "python3"
    },
    "language_info": {
      "name": "python"
    }
  },
  "nbformat": 4,
  "nbformat_minor": 0
}